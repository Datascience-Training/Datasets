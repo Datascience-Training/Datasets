{
 "cells": [
  {
   "cell_type": "markdown",
   "id": "4e56e146",
   "metadata": {},
   "source": [
    "# Feature Engineering"
   ]
  },
  {
   "cell_type": "markdown",
   "id": "0590cc8f",
   "metadata": {},
   "source": [
    "## What is Feature Engineering?"
   ]
  },
  {
   "cell_type": "markdown",
   "id": "95c79395",
   "metadata": {},
   "source": [
    "### Feature engineering is the pre-processing step of machine learning, which extracts features from raw data. It helps to represent an underlying problem to predictive models in a better way, which as a result, improve the accuracy of the model for unseen data. The predictive model contains predictor variables and an outcome variable, and while the feature engineering process selects the most useful predictor variables for the model."
   ]
  },
  {
   "cell_type": "markdown",
   "id": "d4229ffc",
   "metadata": {},
   "source": [
    "### columns (variable or attributes), and these attributes are often known as features."
   ]
  },
  {
   "attachments": {},
   "cell_type": "markdown",
   "id": "ee28e4c5",
   "metadata": {},
   "source": [
    "### Feature engineering in ML contains mainly four processes: Feature Creation, Transformations, Feature Extraction, and Feature Selection.\n",
    "\n"
   ]
  },
  {
   "cell_type": "markdown",
   "id": "e550457e",
   "metadata": {},
   "source": [
    "\n",
    "Feature Creation:\n",
    "- Finding the most useful variables for a predictive model.\n",
    "- Requires human creativity and intervention.\n",
    "- New features are created by combining existing features using addition, subtraction, and ratios.\n",
    "- Provides flexibility and enhances the model's performance.\n",
    "\n",
    "Transformations:\n",
    "- Adjusting predictor variables to improve model accuracy and performance.\n",
    "- Ensuring model flexibility to handle a variety of data inputs.\n",
    "- Scaling variables to the same range for better model interpretation.\n",
    "- Improving model accuracy and avoiding computational errors.\n",
    "\n",
    "Feature Extraction:\n",
    "- Automated process of generating new variables from raw data.\n",
    "- Aimed at reducing data volume for easier management and modeling.\n",
    "- Methods include cluster analysis, text analytics, edge detection algorithms, and PCA.\n",
    "- Helps uncover underlying patterns and structures in the data.\n",
    "\n",
    "Feature Selection:\n",
    "- Selecting the most relevant features for model development.\n",
    "- Removing redundant, irrelevant, or noisy features.\n",
    "- Enhances model performance and accuracy.\n",
    "- Avoids negative impacts of including unnecessary features.\n",
    "\n"
   ]
  },
  {
   "cell_type": "markdown",
   "id": "d26f01e7",
   "metadata": {},
   "source": [
    "### Feature Engineering Techniques"
   ]
  },
  {
   "cell_type": "markdown",
   "id": "76a22d83",
   "metadata": {},
   "source": [
    "## 1. Imputation: \n",
    "Imputation is a technique used in feature engineering to fill in missing values in a dataset. It is essential because many machine learning algorithms cannot handle missing data, so imputation helps to ensure that the dataset is complete before training a model.\n",
    "\n",
    "Missing value mostly handle using mean,median or mode values.\n",
    "\n",
    "* Mode value used where dataset having categorical column like:\"Gender\" which containts two values \"Male\" & \"Female\".\n",
    "\n",
    "The choice between using mean or median for data imputation depends on the nature of the data and the presence of outliers. Here's a guideline on when to use mean and median:\n",
    "\n",
    "Mean Imputation:\n",
    "Use mean imputation when the data is normally distributed or does not have significant outliers.\n",
    "Suitable for continuous or interval data.\n",
    "Preserves the overall mean of the feature, maintaining the central tendency of the data.\n",
    "Can be sensitive to extreme values, as outliers can significantly affect the mean.\n",
    "\n",
    "Median Imputation:\n",
    "Use median imputation when the data is skewed or contains outliers.\n",
    "Suitable for ordinal or skewed data.\n",
    "Resistant to outliers as it selects the middle value, making it more robust.\n",
    "Preserves the median, which represents the central value of the data.\n",
    "\n",
    "\n"
   ]
  },
  {
   "cell_type": "markdown",
   "id": "18b92ce9",
   "metadata": {},
   "source": [
    "#### The missing values are identified using isnull().sum(), which calculates the number of missing values for each feature. Then, fillna(data.mean())"
   ]
  },
  {
   "cell_type": "code",
   "execution_count": 29,
   "id": "2f4a08b2",
   "metadata": {},
   "outputs": [],
   "source": [
    "import pandas as pd\n",
    "import numpy as np\n",
    "import matplotlib.pyplot as plt\n",
    "from scipy.stats import norm\n",
    "\n",
    "# Create the dataset\n",
    "data = {\n",
    "    'Name': ['John', 'Alice', 'Bob', 'Emily', 'Mike'],\n",
    "    'Age': [20, 25, np.nan, 22, np.nan],\n",
    "    'Score': [80, np.nan, 90, np.nan, 70]\n",
    "}\n",
    "\n",
    "df = pd.DataFrame(data)\n",
    "\n",
    "\n"
   ]
  },
  {
   "cell_type": "code",
   "execution_count": 31,
   "id": "0caaff07",
   "metadata": {},
   "outputs": [
    {
     "data": {
      "text/plain": [
       "Name     0\n",
       "Age      2\n",
       "Score    2\n",
       "dtype: int64"
      ]
     },
     "execution_count": 31,
     "metadata": {},
     "output_type": "execute_result"
    }
   ],
   "source": [
    "df.isnull().sum()"
   ]
  },
  {
   "cell_type": "code",
   "execution_count": 10,
   "id": "80bd1108",
   "metadata": {},
   "outputs": [],
   "source": [
    "\n",
    "\n",
    "# Drop rows with missing 'Age' values\n",
    "df_dropped = df.dropna(subset=['Age'])\n",
    "\n"
   ]
  },
  {
   "cell_type": "code",
   "execution_count": 11,
   "id": "af26e2a6",
   "metadata": {},
   "outputs": [
    {
     "data": {
      "text/html": [
       "<div>\n",
       "<style scoped>\n",
       "    .dataframe tbody tr th:only-of-type {\n",
       "        vertical-align: middle;\n",
       "    }\n",
       "\n",
       "    .dataframe tbody tr th {\n",
       "        vertical-align: top;\n",
       "    }\n",
       "\n",
       "    .dataframe thead th {\n",
       "        text-align: right;\n",
       "    }\n",
       "</style>\n",
       "<table border=\"1\" class=\"dataframe\">\n",
       "  <thead>\n",
       "    <tr style=\"text-align: right;\">\n",
       "      <th></th>\n",
       "      <th>Name</th>\n",
       "      <th>Age</th>\n",
       "      <th>Score</th>\n",
       "    </tr>\n",
       "  </thead>\n",
       "  <tbody>\n",
       "    <tr>\n",
       "      <th>0</th>\n",
       "      <td>John</td>\n",
       "      <td>20.0</td>\n",
       "      <td>80.0</td>\n",
       "    </tr>\n",
       "    <tr>\n",
       "      <th>1</th>\n",
       "      <td>Alice</td>\n",
       "      <td>25.0</td>\n",
       "      <td>NaN</td>\n",
       "    </tr>\n",
       "    <tr>\n",
       "      <th>3</th>\n",
       "      <td>Emily</td>\n",
       "      <td>22.0</td>\n",
       "      <td>NaN</td>\n",
       "    </tr>\n",
       "  </tbody>\n",
       "</table>\n",
       "</div>"
      ],
      "text/plain": [
       "    Name   Age  Score\n",
       "0   John  20.0   80.0\n",
       "1  Alice  25.0    NaN\n",
       "3  Emily  22.0    NaN"
      ]
     },
     "execution_count": 11,
     "metadata": {},
     "output_type": "execute_result"
    }
   ],
   "source": [
    "df_dropped"
   ]
  },
  {
   "cell_type": "code",
   "execution_count": 12,
   "id": "ca26a254",
   "metadata": {},
   "outputs": [
    {
     "data": {
      "image/png": "[encoded data removed]",
      "text/plain": [
       "<Figure size 432x288 with 1 Axes>"
      ]
     },
     "metadata": {
      "needs_background": "light"
     },
     "output_type": "display_data"
    }
   ],
   "source": [
    "# Plot histogram of original 'Age' values\n",
    "plt.hist(df_dropped['Age'], bins=10, density=True, alpha=0.7, label='Age')\n",
    "\n",
    "# Fit a normal distribution curve to the original 'Age' values\n",
    "mu, std = norm.fit(df_dropped['Age'])\n",
    "x = np.linspace(df_dropped['Age'].min(), df_dropped['Age'].max(), 100)\n",
    "y = norm.pdf(x, mu, std)\n",
    "plt.plot(x, y, 'r', label='Normal Distribution')\n",
    "\n",
    "# Set labels and title\n",
    "plt.xlabel('Age')\n",
    "plt.ylabel('Density')\n",
    "plt.title('Normal Distribution of Age (Before Imputation)')\n",
    "\n",
    "# Show legend\n",
    "plt.legend()\n",
    "\n",
    "# Display the plot\n",
    "plt.show()\n"
   ]
  },
  {
   "cell_type": "code",
   "execution_count": 6,
   "id": "1cebdff6",
   "metadata": {},
   "outputs": [
    {
     "name": "stdout",
     "output_type": "stream",
     "text": [
      "    Name        Age  Score\n",
      "0   John  20.000000   80.0\n",
      "1  Alice  25.000000   80.0\n",
      "2    Bob  22.333333   90.0\n",
      "3  Emily  22.000000   80.0\n",
      "4   Mike  22.333333   70.0\n"
     ]
    }
   ],
   "source": [
    "# Select numeric columns\n",
    "numeric_columns = df.select_dtypes(include=np.number).columns\n",
    "\n",
    "# Perform mean imputation on numeric columns\n",
    "df[numeric_columns] = df[numeric_columns].fillna(df[numeric_columns].mean())\n",
    "\n",
    "# Display the dataset after imputation\n",
    "print(df)"
   ]
  },
  {
   "cell_type": "code",
   "execution_count": 25,
   "id": "11ec1487",
   "metadata": {},
   "outputs": [
    {
     "data": {
      "image/png": "[encoded data removed]",
      "text/plain": [
       "<Figure size 432x288 with 1 Axes>"
      ]
     },
     "metadata": {
      "needs_background": "light"
     },
     "output_type": "display_data"
    }
   ],
   "source": [
    "# Create a new figure for the plot\n",
    "plt.figure()\n",
    "\n",
    "# Plot histogram after imputation\n",
    "plt.hist(df['Age'], bins=10, density=True, alpha=0.7, label='Age')\n",
    "\n",
    "# Fit a normal distribution curve to the data\n",
    "mu, std = norm.fit(df['Age'])\n",
    "x = np.linspace(df['Age'].min(), df['Age'].max(), 100)\n",
    "y = norm.pdf(x, mu, std)\n",
    "plt.plot(x, y, 'r', label='Normal Distribution')\n",
    "\n",
    "# Set labels and title\n",
    "plt.xlabel('Age')\n",
    "plt.ylabel('Density')\n",
    "plt.title('Histogram with Normal Distribution Curve')\n",
    "\n",
    "# Show legend\n",
    "plt.legend()\n",
    "\n",
    "# Display the plot\n",
    "plt.show()"
   ]
  },
  {
   "cell_type": "markdown",
   "id": "fadee63f",
   "metadata": {},
   "source": [
    "## 2. Handling outliers:\n",
    "is an important step in data preprocessing to ensure the accuracy and robustness of statistical analysis or machine learning models. Two common approaches for handling outliers are using the standard deviation method and the z-score method. Here's a short explanation of each method along with code references to perform outlier handling using these techniques on a DataFrame:\n",
    "\n"
   ]
  },
  {
   "cell_type": "markdown",
   "id": "8032a9af",
   "metadata": {},
   "source": [
    "###  Normal Distribution"
   ]
  },
  {
   "cell_type": "code",
   "execution_count": 54,
   "id": "5af86f4b",
   "metadata": {},
   "outputs": [],
   "source": [
    "import pandas as pd\n",
    "import numpy as np\n",
    "df=pd.read_csv('placement.csv')"
   ]
  },
  {
   "cell_type": "code",
   "execution_count": 55,
   "id": "6372e079",
   "metadata": {},
   "outputs": [
    {
     "data": {
      "text/html": [
       "<div>\n",
       "<style scoped>\n",
       "    .dataframe tbody tr th:only-of-type {\n",
       "        vertical-align: middle;\n",
       "    }\n",
       "\n",
       "    .dataframe tbody tr th {\n",
       "        vertical-align: top;\n",
       "    }\n",
       "\n",
       "    .dataframe thead th {\n",
       "        text-align: right;\n",
       "    }\n",
       "</style>\n",
       "<table border=\"1\" class=\"dataframe\">\n",
       "  <thead>\n",
       "    <tr style=\"text-align: right;\">\n",
       "      <th></th>\n",
       "      <th>cgpa</th>\n",
       "      <th>placement_exam_marks</th>\n",
       "      <th>placed</th>\n",
       "    </tr>\n",
       "  </thead>\n",
       "  <tbody>\n",
       "    <tr>\n",
       "      <th>0</th>\n",
       "      <td>7.19</td>\n",
       "      <td>26.0</td>\n",
       "      <td>1</td>\n",
       "    </tr>\n",
       "    <tr>\n",
       "      <th>1</th>\n",
       "      <td>7.46</td>\n",
       "      <td>38.0</td>\n",
       "      <td>1</td>\n",
       "    </tr>\n",
       "    <tr>\n",
       "      <th>2</th>\n",
       "      <td>7.54</td>\n",
       "      <td>40.0</td>\n",
       "      <td>1</td>\n",
       "    </tr>\n",
       "    <tr>\n",
       "      <th>3</th>\n",
       "      <td>6.42</td>\n",
       "      <td>8.0</td>\n",
       "      <td>1</td>\n",
       "    </tr>\n",
       "    <tr>\n",
       "      <th>4</th>\n",
       "      <td>7.23</td>\n",
       "      <td>17.0</td>\n",
       "      <td>0</td>\n",
       "    </tr>\n",
       "    <tr>\n",
       "      <th>5</th>\n",
       "      <td>7.30</td>\n",
       "      <td>23.0</td>\n",
       "      <td>1</td>\n",
       "    </tr>\n",
       "    <tr>\n",
       "      <th>6</th>\n",
       "      <td>6.69</td>\n",
       "      <td>11.0</td>\n",
       "      <td>0</td>\n",
       "    </tr>\n",
       "    <tr>\n",
       "      <th>7</th>\n",
       "      <td>7.12</td>\n",
       "      <td>39.0</td>\n",
       "      <td>1</td>\n",
       "    </tr>\n",
       "    <tr>\n",
       "      <th>8</th>\n",
       "      <td>6.45</td>\n",
       "      <td>38.0</td>\n",
       "      <td>0</td>\n",
       "    </tr>\n",
       "    <tr>\n",
       "      <th>9</th>\n",
       "      <td>7.75</td>\n",
       "      <td>94.0</td>\n",
       "      <td>1</td>\n",
       "    </tr>\n",
       "  </tbody>\n",
       "</table>\n",
       "</div>"
      ],
      "text/plain": [
       "   cgpa  placement_exam_marks  placed\n",
       "0  7.19                  26.0       1\n",
       "1  7.46                  38.0       1\n",
       "2  7.54                  40.0       1\n",
       "3  6.42                   8.0       1\n",
       "4  7.23                  17.0       0\n",
       "5  7.30                  23.0       1\n",
       "6  6.69                  11.0       0\n",
       "7  7.12                  39.0       1\n",
       "8  6.45                  38.0       0\n",
       "9  7.75                  94.0       1"
      ]
     },
     "execution_count": 55,
     "metadata": {},
     "output_type": "execute_result"
    }
   ],
   "source": [
    "df.head(10)"
   ]
  },
  {
   "cell_type": "code",
   "execution_count": 56,
   "id": "298d5023",
   "metadata": {},
   "outputs": [
    {
     "data": {
      "text/plain": [
       "(1000, 3)"
      ]
     },
     "execution_count": 56,
     "metadata": {},
     "output_type": "execute_result"
    }
   ],
   "source": [
    "df.shape"
   ]
  },
  {
   "cell_type": "code",
   "execution_count": 57,
   "id": "012e3d04",
   "metadata": {},
   "outputs": [
    {
     "data": {
      "text/plain": [
       "cgpa                    0\n",
       "placement_exam_marks    0\n",
       "placed                  0\n",
       "dtype: int64"
      ]
     },
     "execution_count": 57,
     "metadata": {},
     "output_type": "execute_result"
    }
   ],
   "source": [
    "df.isnull().sum()"
   ]
  },
  {
   "cell_type": "code",
   "execution_count": 58,
   "id": "1c369c63",
   "metadata": {},
   "outputs": [],
   "source": [
    "import matplotlib.pyplot as plt\n",
    "import seaborn as sns"
   ]
  },
  {
   "cell_type": "code",
   "execution_count": 59,
   "id": "e1bf1f0a",
   "metadata": {},
   "outputs": [
    {
     "data": {
      "image/png": "[encoded data removed]",
      "text/plain": [
       "<Figure size 864x432 with 2 Axes>"
      ]
     },
     "metadata": {
      "needs_background": "light"
     },
     "output_type": "display_data"
    }
   ],
   "source": [
    "plt.figure(figsize=(12,6))\n",
    "plt.subplot(1,2,1)\n",
    "sns.distplot(df['cgpa'])\n",
    "plt.subplot(1,2,2)\n",
    "sns.distplot(df['placement_exam_marks'])\n",
    "plt.show()"
   ]
  },
  {
   "cell_type": "code",
   "execution_count": 60,
   "id": "b64a13d3",
   "metadata": {},
   "outputs": [
    {
     "data": {
      "text/plain": [
       "0.8356419499466834"
      ]
     },
     "execution_count": 60,
     "metadata": {},
     "output_type": "execute_result"
    }
   ],
   "source": [
    "df['placement_exam_marks'].skew()"
   ]
  },
  {
   "cell_type": "code",
   "execution_count": 61,
   "id": "dffebad7",
   "metadata": {},
   "outputs": [
    {
     "name": "stdout",
     "output_type": "stream",
     "text": [
      "Heigth allowed= 8.808933625397177\n",
      "Lowest allowed= 5.113546374602842\n"
     ]
    }
   ],
   "source": [
    "print('Heigth allowed=',df['cgpa'].mean()+3*df['cgpa'].std())\n",
    "print('Lowest allowed=',df['cgpa'].mean()-3*df['cgpa'].std())"
   ]
  },
  {
   "cell_type": "code",
   "execution_count": 62,
   "id": "0430cdc4",
   "metadata": {},
   "outputs": [
    {
     "data": {
      "text/html": [
       "<div>\n",
       "<style scoped>\n",
       "    .dataframe tbody tr th:only-of-type {\n",
       "        vertical-align: middle;\n",
       "    }\n",
       "\n",
       "    .dataframe tbody tr th {\n",
       "        vertical-align: top;\n",
       "    }\n",
       "\n",
       "    .dataframe thead th {\n",
       "        text-align: right;\n",
       "    }\n",
       "</style>\n",
       "<table border=\"1\" class=\"dataframe\">\n",
       "  <thead>\n",
       "    <tr style=\"text-align: right;\">\n",
       "      <th></th>\n",
       "      <th>cgpa</th>\n",
       "      <th>placement_exam_marks</th>\n",
       "      <th>placed</th>\n",
       "    </tr>\n",
       "  </thead>\n",
       "  <tbody>\n",
       "    <tr>\n",
       "      <th>485</th>\n",
       "      <td>4.92</td>\n",
       "      <td>44.0</td>\n",
       "      <td>1</td>\n",
       "    </tr>\n",
       "    <tr>\n",
       "      <th>995</th>\n",
       "      <td>8.87</td>\n",
       "      <td>44.0</td>\n",
       "      <td>1</td>\n",
       "    </tr>\n",
       "    <tr>\n",
       "      <th>996</th>\n",
       "      <td>9.12</td>\n",
       "      <td>65.0</td>\n",
       "      <td>1</td>\n",
       "    </tr>\n",
       "    <tr>\n",
       "      <th>997</th>\n",
       "      <td>4.89</td>\n",
       "      <td>34.0</td>\n",
       "      <td>0</td>\n",
       "    </tr>\n",
       "    <tr>\n",
       "      <th>999</th>\n",
       "      <td>4.90</td>\n",
       "      <td>10.0</td>\n",
       "      <td>1</td>\n",
       "    </tr>\n",
       "  </tbody>\n",
       "</table>\n",
       "</div>"
      ],
      "text/plain": [
       "     cgpa  placement_exam_marks  placed\n",
       "485  4.92                  44.0       1\n",
       "995  8.87                  44.0       1\n",
       "996  9.12                  65.0       1\n",
       "997  4.89                  34.0       0\n",
       "999  4.90                  10.0       1"
      ]
     },
     "execution_count": 62,
     "metadata": {},
     "output_type": "execute_result"
    }
   ],
   "source": [
    "#find the outlier \n",
    "df[(df['cgpa']>8.80 )|( df['cgpa']<5.11)]"
   ]
  },
  {
   "cell_type": "code",
   "execution_count": 63,
   "id": "68f208a0",
   "metadata": {},
   "outputs": [],
   "source": [
    "#Trimming\n",
    "\n",
    "new_df=df[(df['cgpa']<8.80) & (df['cgpa']>5.11)]"
   ]
  },
  {
   "cell_type": "code",
   "execution_count": 64,
   "id": "e3ac9430",
   "metadata": {},
   "outputs": [
    {
     "data": {
      "text/plain": [
       "(995, 3)"
      ]
     },
     "execution_count": 64,
     "metadata": {},
     "output_type": "execute_result"
    }
   ],
   "source": [
    "new_df.shape"
   ]
  },
  {
   "cell_type": "code",
   "execution_count": 65,
   "id": "c9f95c4d",
   "metadata": {},
   "outputs": [
    {
     "data": {
      "text/html": [
       "<div>\n",
       "<style scoped>\n",
       "    .dataframe tbody tr th:only-of-type {\n",
       "        vertical-align: middle;\n",
       "    }\n",
       "\n",
       "    .dataframe tbody tr th {\n",
       "        vertical-align: top;\n",
       "    }\n",
       "\n",
       "    .dataframe thead th {\n",
       "        text-align: right;\n",
       "    }\n",
       "</style>\n",
       "<table border=\"1\" class=\"dataframe\">\n",
       "  <thead>\n",
       "    <tr style=\"text-align: right;\">\n",
       "      <th></th>\n",
       "      <th>cgpa</th>\n",
       "      <th>placement_exam_marks</th>\n",
       "      <th>placed</th>\n",
       "      <th>Z_score</th>\n",
       "    </tr>\n",
       "  </thead>\n",
       "  <tbody>\n",
       "    <tr>\n",
       "      <th>0</th>\n",
       "      <td>7.19</td>\n",
       "      <td>26.0</td>\n",
       "      <td>1</td>\n",
       "      <td>0.371425</td>\n",
       "    </tr>\n",
       "    <tr>\n",
       "      <th>1</th>\n",
       "      <td>7.46</td>\n",
       "      <td>38.0</td>\n",
       "      <td>1</td>\n",
       "      <td>0.809810</td>\n",
       "    </tr>\n",
       "    <tr>\n",
       "      <th>2</th>\n",
       "      <td>7.54</td>\n",
       "      <td>40.0</td>\n",
       "      <td>1</td>\n",
       "      <td>0.939701</td>\n",
       "    </tr>\n",
       "    <tr>\n",
       "      <th>3</th>\n",
       "      <td>6.42</td>\n",
       "      <td>8.0</td>\n",
       "      <td>1</td>\n",
       "      <td>-0.878782</td>\n",
       "    </tr>\n",
       "    <tr>\n",
       "      <th>4</th>\n",
       "      <td>7.23</td>\n",
       "      <td>17.0</td>\n",
       "      <td>0</td>\n",
       "      <td>0.436371</td>\n",
       "    </tr>\n",
       "    <tr>\n",
       "      <th>...</th>\n",
       "      <td>...</td>\n",
       "      <td>...</td>\n",
       "      <td>...</td>\n",
       "      <td>...</td>\n",
       "    </tr>\n",
       "    <tr>\n",
       "      <th>995</th>\n",
       "      <td>8.87</td>\n",
       "      <td>44.0</td>\n",
       "      <td>1</td>\n",
       "      <td>3.099150</td>\n",
       "    </tr>\n",
       "    <tr>\n",
       "      <th>996</th>\n",
       "      <td>9.12</td>\n",
       "      <td>65.0</td>\n",
       "      <td>1</td>\n",
       "      <td>3.505062</td>\n",
       "    </tr>\n",
       "    <tr>\n",
       "      <th>997</th>\n",
       "      <td>4.89</td>\n",
       "      <td>34.0</td>\n",
       "      <td>0</td>\n",
       "      <td>-3.362960</td>\n",
       "    </tr>\n",
       "    <tr>\n",
       "      <th>998</th>\n",
       "      <td>8.62</td>\n",
       "      <td>46.0</td>\n",
       "      <td>1</td>\n",
       "      <td>2.693239</td>\n",
       "    </tr>\n",
       "    <tr>\n",
       "      <th>999</th>\n",
       "      <td>4.90</td>\n",
       "      <td>10.0</td>\n",
       "      <td>1</td>\n",
       "      <td>-3.346724</td>\n",
       "    </tr>\n",
       "  </tbody>\n",
       "</table>\n",
       "<p>1000 rows × 4 columns</p>\n",
       "</div>"
      ],
      "text/plain": [
       "     cgpa  placement_exam_marks  placed   Z_score\n",
       "0    7.19                  26.0       1  0.371425\n",
       "1    7.46                  38.0       1  0.809810\n",
       "2    7.54                  40.0       1  0.939701\n",
       "3    6.42                   8.0       1 -0.878782\n",
       "4    7.23                  17.0       0  0.436371\n",
       "..    ...                   ...     ...       ...\n",
       "995  8.87                  44.0       1  3.099150\n",
       "996  9.12                  65.0       1  3.505062\n",
       "997  4.89                  34.0       0 -3.362960\n",
       "998  8.62                  46.0       1  2.693239\n",
       "999  4.90                  10.0       1 -3.346724\n",
       "\n",
       "[1000 rows x 4 columns]"
      ]
     },
     "execution_count": 65,
     "metadata": {},
     "output_type": "execute_result"
    }
   ],
   "source": [
    "\n",
    "# Calculating the Zscore\n",
    "df['Z_score']=(df['cgpa']-df['cgpa'].mean())/df['cgpa'].std()\n",
    "df"
   ]
  },
  {
   "cell_type": "code",
   "execution_count": 66,
   "id": "94e1aaa1",
   "metadata": {},
   "outputs": [
    {
     "data": {
      "text/html": [
       "<div>\n",
       "<style scoped>\n",
       "    .dataframe tbody tr th:only-of-type {\n",
       "        vertical-align: middle;\n",
       "    }\n",
       "\n",
       "    .dataframe tbody tr th {\n",
       "        vertical-align: top;\n",
       "    }\n",
       "\n",
       "    .dataframe thead th {\n",
       "        text-align: right;\n",
       "    }\n",
       "</style>\n",
       "<table border=\"1\" class=\"dataframe\">\n",
       "  <thead>\n",
       "    <tr style=\"text-align: right;\">\n",
       "      <th></th>\n",
       "      <th>cgpa</th>\n",
       "      <th>placement_exam_marks</th>\n",
       "      <th>placed</th>\n",
       "      <th>Z_score</th>\n",
       "    </tr>\n",
       "  </thead>\n",
       "  <tbody>\n",
       "    <tr>\n",
       "      <th>485</th>\n",
       "      <td>4.92</td>\n",
       "      <td>44.0</td>\n",
       "      <td>1</td>\n",
       "      <td>-3.314251</td>\n",
       "    </tr>\n",
       "    <tr>\n",
       "      <th>995</th>\n",
       "      <td>8.87</td>\n",
       "      <td>44.0</td>\n",
       "      <td>1</td>\n",
       "      <td>3.099150</td>\n",
       "    </tr>\n",
       "    <tr>\n",
       "      <th>996</th>\n",
       "      <td>9.12</td>\n",
       "      <td>65.0</td>\n",
       "      <td>1</td>\n",
       "      <td>3.505062</td>\n",
       "    </tr>\n",
       "    <tr>\n",
       "      <th>997</th>\n",
       "      <td>4.89</td>\n",
       "      <td>34.0</td>\n",
       "      <td>0</td>\n",
       "      <td>-3.362960</td>\n",
       "    </tr>\n",
       "    <tr>\n",
       "      <th>999</th>\n",
       "      <td>4.90</td>\n",
       "      <td>10.0</td>\n",
       "      <td>1</td>\n",
       "      <td>-3.346724</td>\n",
       "    </tr>\n",
       "  </tbody>\n",
       "</table>\n",
       "</div>"
      ],
      "text/plain": [
       "     cgpa  placement_exam_marks  placed   Z_score\n",
       "485  4.92                  44.0       1 -3.314251\n",
       "995  8.87                  44.0       1  3.099150\n",
       "996  9.12                  65.0       1  3.505062\n",
       "997  4.89                  34.0       0 -3.362960\n",
       "999  4.90                  10.0       1 -3.346724"
      ]
     },
     "execution_count": 66,
     "metadata": {},
     "output_type": "execute_result"
    }
   ],
   "source": [
    "df[(df['Z_score']>3)|( df['Z_score']<-3)]"
   ]
  },
  {
   "cell_type": "code",
   "execution_count": 67,
   "id": "41341e5b",
   "metadata": {},
   "outputs": [
    {
     "data": {
      "text/plain": [
       "(995, 4)"
      ]
     },
     "execution_count": 67,
     "metadata": {},
     "output_type": "execute_result"
    }
   ],
   "source": [
    "#trimming\n",
    "df_zsco=df[(df['Z_score']<3)&( df['Z_score']>-3)]\n",
    "df_zsco.shape"
   ]
  },
  {
   "cell_type": "code",
   "execution_count": 69,
   "id": "6d32a738",
   "metadata": {},
   "outputs": [
    {
     "name": "stdout",
     "output_type": "stream",
     "text": [
      "8.808933625397177\n",
      "5.113546374602842\n"
     ]
    }
   ],
   "source": [
    "#Capping=data cap in gievn data\n",
    "upperlimit=df['cgpa'].mean()+3*df['cgpa'].std()\n",
    "lowerlimit=df['cgpa'].mean()-3*df['cgpa'].std()\\\n",
    "\n",
    "print(upperlimit)\n",
    "print(lowerlimit)"
   ]
  },
  {
   "cell_type": "code",
   "execution_count": 70,
   "id": "d39730b0",
   "metadata": {},
   "outputs": [],
   "source": [
    "df['cgpa']=np.where(df['cgpa']>upperlimit,\n",
    "                   upperlimit,\n",
    "                   np.where(df['cgpa']<lowerlimit,\n",
    "                           lowerlimit,\n",
    "                           df['cgpa']\n",
    "                           )\n",
    "                   )\n"
   ]
  },
  {
   "cell_type": "code",
   "execution_count": 71,
   "id": "ff6c5db8",
   "metadata": {},
   "outputs": [
    {
     "data": {
      "text/plain": [
       "(1000, 4)"
      ]
     },
     "execution_count": 71,
     "metadata": {},
     "output_type": "execute_result"
    }
   ],
   "source": [
    "df.shape"
   ]
  },
  {
   "cell_type": "markdown",
   "id": "6339a90f",
   "metadata": {},
   "source": [
    "### For Skewed distributions:\n"
   ]
  },
  {
   "cell_type": "code",
   "execution_count": 72,
   "id": "1b4c9a5d",
   "metadata": {},
   "outputs": [
    {
     "data": {
      "text/html": [
       "<div>\n",
       "<style scoped>\n",
       "    .dataframe tbody tr th:only-of-type {\n",
       "        vertical-align: middle;\n",
       "    }\n",
       "\n",
       "    .dataframe tbody tr th {\n",
       "        vertical-align: top;\n",
       "    }\n",
       "\n",
       "    .dataframe thead th {\n",
       "        text-align: right;\n",
       "    }\n",
       "</style>\n",
       "<table border=\"1\" class=\"dataframe\">\n",
       "  <thead>\n",
       "    <tr style=\"text-align: right;\">\n",
       "      <th></th>\n",
       "      <th>cgpa</th>\n",
       "      <th>placement_exam_marks</th>\n",
       "      <th>placed</th>\n",
       "      <th>Z_score</th>\n",
       "    </tr>\n",
       "  </thead>\n",
       "  <tbody>\n",
       "    <tr>\n",
       "      <th>0</th>\n",
       "      <td>7.19</td>\n",
       "      <td>26.0</td>\n",
       "      <td>1</td>\n",
       "      <td>0.371425</td>\n",
       "    </tr>\n",
       "    <tr>\n",
       "      <th>1</th>\n",
       "      <td>7.46</td>\n",
       "      <td>38.0</td>\n",
       "      <td>1</td>\n",
       "      <td>0.809810</td>\n",
       "    </tr>\n",
       "    <tr>\n",
       "      <th>2</th>\n",
       "      <td>7.54</td>\n",
       "      <td>40.0</td>\n",
       "      <td>1</td>\n",
       "      <td>0.939701</td>\n",
       "    </tr>\n",
       "    <tr>\n",
       "      <th>3</th>\n",
       "      <td>6.42</td>\n",
       "      <td>8.0</td>\n",
       "      <td>1</td>\n",
       "      <td>-0.878782</td>\n",
       "    </tr>\n",
       "    <tr>\n",
       "      <th>4</th>\n",
       "      <td>7.23</td>\n",
       "      <td>17.0</td>\n",
       "      <td>0</td>\n",
       "      <td>0.436371</td>\n",
       "    </tr>\n",
       "  </tbody>\n",
       "</table>\n",
       "</div>"
      ],
      "text/plain": [
       "   cgpa  placement_exam_marks  placed   Z_score\n",
       "0  7.19                  26.0       1  0.371425\n",
       "1  7.46                  38.0       1  0.809810\n",
       "2  7.54                  40.0       1  0.939701\n",
       "3  6.42                   8.0       1 -0.878782\n",
       "4  7.23                  17.0       0  0.436371"
      ]
     },
     "execution_count": 72,
     "metadata": {},
     "output_type": "execute_result"
    }
   ],
   "source": [
    "df.head()"
   ]
  },
  {
   "cell_type": "code",
   "execution_count": 73,
   "id": "a48df840",
   "metadata": {},
   "outputs": [],
   "source": [
    "df=df.drop('Z_score',axis=1)"
   ]
  },
  {
   "cell_type": "code",
   "execution_count": 74,
   "id": "1aa7fa1a",
   "metadata": {},
   "outputs": [
    {
     "data": {
      "image/png": "[encoded data removed]",
      "text/plain": [
       "<Figure size 432x288 with 2 Axes>"
      ]
     },
     "metadata": {
      "needs_background": "light"
     },
     "output_type": "display_data"
    }
   ],
   "source": [
    "\n",
    "plt.subplot(1,2,1)\n",
    "sns.distplot(df['cgpa'])\n",
    "plt.subplot(1,2,2)\n",
    "sns.distplot(df['placement_exam_marks'])\n",
    "plt.show()"
   ]
  },
  {
   "cell_type": "code",
   "execution_count": 75,
   "id": "545f94b5",
   "metadata": {},
   "outputs": [
    {
     "data": {
      "text/plain": [
       "count    1000.000000\n",
       "mean       32.225000\n",
       "std        19.130822\n",
       "min         0.000000\n",
       "25%        17.000000\n",
       "50%        28.000000\n",
       "75%        44.000000\n",
       "max       100.000000\n",
       "Name: placement_exam_marks, dtype: float64"
      ]
     },
     "execution_count": 75,
     "metadata": {},
     "output_type": "execute_result"
    }
   ],
   "source": [
    "#we took placement_exam_marks because skewd data\n",
    "df['placement_exam_marks'].describe()"
   ]
  },
  {
   "cell_type": "code",
   "execution_count": 76,
   "id": "d694bbd2",
   "metadata": {},
   "outputs": [
    {
     "data": {
      "text/plain": [
       "<AxesSubplot:xlabel='placement_exam_marks'>"
      ]
     },
     "execution_count": 76,
     "metadata": {},
     "output_type": "execute_result"
    },
    {
     "data": {
      "image/png": "[encoded data removed]",
      "text/plain": [
       "<Figure size 432x288 with 1 Axes>"
      ]
     },
     "metadata": {
      "needs_background": "light"
     },
     "output_type": "display_data"
    }
   ],
   "source": [
    "sns.boxplot(df['placement_exam_marks'])"
   ]
  },
  {
   "cell_type": "code",
   "execution_count": 77,
   "id": "f5c9af46",
   "metadata": {},
   "outputs": [
    {
     "name": "stdout",
     "output_type": "stream",
     "text": [
      "17.0\n",
      "44.0\n"
     ]
    }
   ],
   "source": [
    "#finding IQR\n",
    "percentile25=df['placement_exam_marks'].quantile(0.25)\n",
    "percentile75=df['placement_exam_marks'].quantile(0.75)\n",
    "print(percentile25)\n",
    "print(percentile75)"
   ]
  },
  {
   "cell_type": "code",
   "execution_count": 78,
   "id": "3a966846",
   "metadata": {},
   "outputs": [
    {
     "data": {
      "text/plain": [
       "27.0"
      ]
     },
     "execution_count": 78,
     "metadata": {},
     "output_type": "execute_result"
    }
   ],
   "source": [
    "iqr=percentile75-percentile25\n",
    "iqr"
   ]
  },
  {
   "cell_type": "code",
   "execution_count": 79,
   "id": "18707212",
   "metadata": {},
   "outputs": [
    {
     "name": "stdout",
     "output_type": "stream",
     "text": [
      "Upper limit 84.5\n",
      "Lower limit -23.5\n"
     ]
    }
   ],
   "source": [
    "upper_limit = percentile75 + 1.5 * iqr\n",
    "lower_limit = percentile25 - 1.5 * iqr\n",
    "print(\"Upper limit\",upper_limit)\n",
    "print(\"Lower limit\",lower_limit)"
   ]
  },
  {
   "cell_type": "markdown",
   "id": "c4b66e72",
   "metadata": {},
   "source": [
    "### Finding Outliers"
   ]
  },
  {
   "cell_type": "code",
   "execution_count": 80,
   "id": "adb56731",
   "metadata": {},
   "outputs": [
    {
     "data": {
      "text/html": [
       "<div>\n",
       "<style scoped>\n",
       "    .dataframe tbody tr th:only-of-type {\n",
       "        vertical-align: middle;\n",
       "    }\n",
       "\n",
       "    .dataframe tbody tr th {\n",
       "        vertical-align: top;\n",
       "    }\n",
       "\n",
       "    .dataframe thead th {\n",
       "        text-align: right;\n",
       "    }\n",
       "</style>\n",
       "<table border=\"1\" class=\"dataframe\">\n",
       "  <thead>\n",
       "    <tr style=\"text-align: right;\">\n",
       "      <th></th>\n",
       "      <th>cgpa</th>\n",
       "      <th>placement_exam_marks</th>\n",
       "      <th>placed</th>\n",
       "    </tr>\n",
       "  </thead>\n",
       "  <tbody>\n",
       "    <tr>\n",
       "      <th>9</th>\n",
       "      <td>7.75</td>\n",
       "      <td>94.0</td>\n",
       "      <td>1</td>\n",
       "    </tr>\n",
       "    <tr>\n",
       "      <th>40</th>\n",
       "      <td>6.60</td>\n",
       "      <td>86.0</td>\n",
       "      <td>1</td>\n",
       "    </tr>\n",
       "    <tr>\n",
       "      <th>61</th>\n",
       "      <td>7.51</td>\n",
       "      <td>86.0</td>\n",
       "      <td>0</td>\n",
       "    </tr>\n",
       "    <tr>\n",
       "      <th>134</th>\n",
       "      <td>6.33</td>\n",
       "      <td>93.0</td>\n",
       "      <td>0</td>\n",
       "    </tr>\n",
       "    <tr>\n",
       "      <th>162</th>\n",
       "      <td>7.80</td>\n",
       "      <td>90.0</td>\n",
       "      <td>0</td>\n",
       "    </tr>\n",
       "    <tr>\n",
       "      <th>283</th>\n",
       "      <td>7.09</td>\n",
       "      <td>87.0</td>\n",
       "      <td>0</td>\n",
       "    </tr>\n",
       "    <tr>\n",
       "      <th>290</th>\n",
       "      <td>8.38</td>\n",
       "      <td>87.0</td>\n",
       "      <td>0</td>\n",
       "    </tr>\n",
       "    <tr>\n",
       "      <th>311</th>\n",
       "      <td>6.97</td>\n",
       "      <td>87.0</td>\n",
       "      <td>1</td>\n",
       "    </tr>\n",
       "    <tr>\n",
       "      <th>324</th>\n",
       "      <td>6.64</td>\n",
       "      <td>90.0</td>\n",
       "      <td>0</td>\n",
       "    </tr>\n",
       "    <tr>\n",
       "      <th>630</th>\n",
       "      <td>6.56</td>\n",
       "      <td>96.0</td>\n",
       "      <td>1</td>\n",
       "    </tr>\n",
       "    <tr>\n",
       "      <th>685</th>\n",
       "      <td>6.05</td>\n",
       "      <td>87.0</td>\n",
       "      <td>1</td>\n",
       "    </tr>\n",
       "    <tr>\n",
       "      <th>730</th>\n",
       "      <td>6.14</td>\n",
       "      <td>90.0</td>\n",
       "      <td>1</td>\n",
       "    </tr>\n",
       "    <tr>\n",
       "      <th>771</th>\n",
       "      <td>7.31</td>\n",
       "      <td>86.0</td>\n",
       "      <td>1</td>\n",
       "    </tr>\n",
       "    <tr>\n",
       "      <th>846</th>\n",
       "      <td>6.99</td>\n",
       "      <td>97.0</td>\n",
       "      <td>0</td>\n",
       "    </tr>\n",
       "    <tr>\n",
       "      <th>917</th>\n",
       "      <td>5.95</td>\n",
       "      <td>100.0</td>\n",
       "      <td>0</td>\n",
       "    </tr>\n",
       "  </tbody>\n",
       "</table>\n",
       "</div>"
      ],
      "text/plain": [
       "     cgpa  placement_exam_marks  placed\n",
       "9    7.75                  94.0       1\n",
       "40   6.60                  86.0       1\n",
       "61   7.51                  86.0       0\n",
       "134  6.33                  93.0       0\n",
       "162  7.80                  90.0       0\n",
       "283  7.09                  87.0       0\n",
       "290  8.38                  87.0       0\n",
       "311  6.97                  87.0       1\n",
       "324  6.64                  90.0       0\n",
       "630  6.56                  96.0       1\n",
       "685  6.05                  87.0       1\n",
       "730  6.14                  90.0       1\n",
       "771  7.31                  86.0       1\n",
       "846  6.99                  97.0       0\n",
       "917  5.95                 100.0       0"
      ]
     },
     "execution_count": 80,
     "metadata": {},
     "output_type": "execute_result"
    }
   ],
   "source": [
    "df[df['placement_exam_marks'] >upper_limit] "
   ]
  },
  {
   "cell_type": "code",
   "execution_count": 81,
   "id": "8f13059c",
   "metadata": {},
   "outputs": [
    {
     "data": {
      "text/html": [
       "<div>\n",
       "<style scoped>\n",
       "    .dataframe tbody tr th:only-of-type {\n",
       "        vertical-align: middle;\n",
       "    }\n",
       "\n",
       "    .dataframe tbody tr th {\n",
       "        vertical-align: top;\n",
       "    }\n",
       "\n",
       "    .dataframe thead th {\n",
       "        text-align: right;\n",
       "    }\n",
       "</style>\n",
       "<table border=\"1\" class=\"dataframe\">\n",
       "  <thead>\n",
       "    <tr style=\"text-align: right;\">\n",
       "      <th></th>\n",
       "      <th>cgpa</th>\n",
       "      <th>placement_exam_marks</th>\n",
       "      <th>placed</th>\n",
       "    </tr>\n",
       "  </thead>\n",
       "  <tbody>\n",
       "  </tbody>\n",
       "</table>\n",
       "</div>"
      ],
      "text/plain": [
       "Empty DataFrame\n",
       "Columns: [cgpa, placement_exam_marks, placed]\n",
       "Index: []"
      ]
     },
     "execution_count": 81,
     "metadata": {},
     "output_type": "execute_result"
    }
   ],
   "source": [
    "df[df['placement_exam_marks'] < lower_limit]"
   ]
  },
  {
   "cell_type": "code",
   "execution_count": 82,
   "id": "254508b7",
   "metadata": {},
   "outputs": [
    {
     "data": {
      "text/plain": [
       "(985, 3)"
      ]
     },
     "execution_count": 82,
     "metadata": {},
     "output_type": "execute_result"
    }
   ],
   "source": [
    "#Trimming\n",
    "new_df = df[df['placement_exam_marks'] < upper_limit]\n",
    "new_df.shape"
   ]
  },
  {
   "cell_type": "code",
   "execution_count": 83,
   "id": "3acd1a63",
   "metadata": {},
   "outputs": [
    {
     "data": {
      "image/png": "[encoded data removed]",
      "text/plain": [
       "<Figure size 1152x576 with 4 Axes>"
      ]
     },
     "metadata": {
      "needs_background": "light"
     },
     "output_type": "display_data"
    }
   ],
   "source": [
    "# Comparing\n",
    "\n",
    "plt.figure(figsize=(16,8))\n",
    "plt.subplot(2,2,1)\n",
    "sns.distplot(df['placement_exam_marks'])\n",
    "\n",
    "plt.subplot(2,2,2)\n",
    "sns.boxplot(df['placement_exam_marks'])\n",
    "\n",
    "plt.subplot(2,2,3)\n",
    "sns.distplot(new_df['placement_exam_marks'])\n",
    "\n",
    "plt.subplot(2,2,4)\n",
    "sns.boxplot(new_df['placement_exam_marks'])\n",
    "\n",
    "plt.show()"
   ]
  },
  {
   "cell_type": "code",
   "execution_count": 84,
   "id": "da0ee8ea",
   "metadata": {},
   "outputs": [],
   "source": [
    "\"\"\"np.where(condtion,true,false)\"\"\"\n",
    "new_df_camp=df.copy()\n",
    "new_df_camp['placement_exam_marks']=np.where(\n",
    "new_df_camp['placement_exam_marks']>upper_limit,\n",
    "    upper_limit,\n",
    "    np.where(new_df_camp['placement_exam_marks']<lower_limit,\n",
    "             lower_limit,\n",
    "             new_df_camp['placement_exam_marks']\n",
    "    )\n",
    ")"
   ]
  },
  {
   "cell_type": "code",
   "execution_count": 85,
   "id": "48df8384",
   "metadata": {},
   "outputs": [
    {
     "data": {
      "text/plain": [
       "(1000, 3)"
      ]
     },
     "execution_count": 85,
     "metadata": {},
     "output_type": "execute_result"
    }
   ],
   "source": [
    "new_df_camp.shape"
   ]
  },
  {
   "cell_type": "code",
   "execution_count": 86,
   "id": "32f1ff89",
   "metadata": {},
   "outputs": [
    {
     "data": {
      "image/png": "[encoded data removed]",
      "text/plain": [
       "<Figure size 1152x576 with 4 Axes>"
      ]
     },
     "metadata": {
      "needs_background": "light"
     },
     "output_type": "display_data"
    }
   ],
   "source": [
    "# Comparing\n",
    "\n",
    "plt.figure(figsize=(16,8))\n",
    "plt.subplot(2,2,1)\n",
    "sns.distplot(df['placement_exam_marks'])\n",
    "\n",
    "plt.subplot(2,2,2)\n",
    "sns.boxplot(df['placement_exam_marks'])\n",
    "\n",
    "plt.subplot(2,2,3)\n",
    "sns.distplot(new_df_camp['placement_exam_marks'])\n",
    "\n",
    "plt.subplot(2,2,4)\n",
    "sns.boxplot(new_df_camp['placement_exam_marks'])\n",
    "\n",
    "plt.show()"
   ]
  },
  {
   "cell_type": "markdown",
   "id": "1384d77d",
   "metadata": {},
   "source": [
    "### Use percentile"
   ]
  },
  {
   "cell_type": "code",
   "execution_count": 87,
   "id": "db366cc7",
   "metadata": {},
   "outputs": [
    {
     "data": {
      "text/html": [
       "<div>\n",
       "<style scoped>\n",
       "    .dataframe tbody tr th:only-of-type {\n",
       "        vertical-align: middle;\n",
       "    }\n",
       "\n",
       "    .dataframe tbody tr th {\n",
       "        vertical-align: top;\n",
       "    }\n",
       "\n",
       "    .dataframe thead th {\n",
       "        text-align: right;\n",
       "    }\n",
       "</style>\n",
       "<table border=\"1\" class=\"dataframe\">\n",
       "  <thead>\n",
       "    <tr style=\"text-align: right;\">\n",
       "      <th></th>\n",
       "      <th>Gender</th>\n",
       "      <th>Height</th>\n",
       "      <th>Weight</th>\n",
       "    </tr>\n",
       "  </thead>\n",
       "  <tbody>\n",
       "    <tr>\n",
       "      <th>0</th>\n",
       "      <td>Male</td>\n",
       "      <td>73.847017</td>\n",
       "      <td>241.893563</td>\n",
       "    </tr>\n",
       "    <tr>\n",
       "      <th>1</th>\n",
       "      <td>Male</td>\n",
       "      <td>68.781904</td>\n",
       "      <td>162.310473</td>\n",
       "    </tr>\n",
       "    <tr>\n",
       "      <th>2</th>\n",
       "      <td>Male</td>\n",
       "      <td>74.110105</td>\n",
       "      <td>212.740856</td>\n",
       "    </tr>\n",
       "    <tr>\n",
       "      <th>3</th>\n",
       "      <td>Male</td>\n",
       "      <td>71.730978</td>\n",
       "      <td>220.042470</td>\n",
       "    </tr>\n",
       "    <tr>\n",
       "      <th>4</th>\n",
       "      <td>Male</td>\n",
       "      <td>69.881796</td>\n",
       "      <td>206.349801</td>\n",
       "    </tr>\n",
       "    <tr>\n",
       "      <th>5</th>\n",
       "      <td>Male</td>\n",
       "      <td>67.253016</td>\n",
       "      <td>152.212156</td>\n",
       "    </tr>\n",
       "    <tr>\n",
       "      <th>6</th>\n",
       "      <td>Male</td>\n",
       "      <td>68.785081</td>\n",
       "      <td>183.927889</td>\n",
       "    </tr>\n",
       "    <tr>\n",
       "      <th>7</th>\n",
       "      <td>Male</td>\n",
       "      <td>68.348516</td>\n",
       "      <td>167.971110</td>\n",
       "    </tr>\n",
       "    <tr>\n",
       "      <th>8</th>\n",
       "      <td>Male</td>\n",
       "      <td>67.018950</td>\n",
       "      <td>175.929440</td>\n",
       "    </tr>\n",
       "    <tr>\n",
       "      <th>9</th>\n",
       "      <td>Male</td>\n",
       "      <td>63.456494</td>\n",
       "      <td>156.399676</td>\n",
       "    </tr>\n",
       "  </tbody>\n",
       "</table>\n",
       "</div>"
      ],
      "text/plain": [
       "  Gender     Height      Weight\n",
       "0   Male  73.847017  241.893563\n",
       "1   Male  68.781904  162.310473\n",
       "2   Male  74.110105  212.740856\n",
       "3   Male  71.730978  220.042470\n",
       "4   Male  69.881796  206.349801\n",
       "5   Male  67.253016  152.212156\n",
       "6   Male  68.785081  183.927889\n",
       "7   Male  68.348516  167.971110\n",
       "8   Male  67.018950  175.929440\n",
       "9   Male  63.456494  156.399676"
      ]
     },
     "execution_count": 87,
     "metadata": {},
     "output_type": "execute_result"
    }
   ],
   "source": [
    "df2=pd.read_csv('weight-height.csv')\n",
    "df2.head(10)"
   ]
  },
  {
   "cell_type": "code",
   "execution_count": 88,
   "id": "f79bb643",
   "metadata": {},
   "outputs": [
    {
     "data": {
      "text/plain": [
       "(10000, 3)"
      ]
     },
     "execution_count": 88,
     "metadata": {},
     "output_type": "execute_result"
    }
   ],
   "source": [
    "df2.shape"
   ]
  },
  {
   "cell_type": "code",
   "execution_count": 89,
   "id": "8e8ddc61",
   "metadata": {},
   "outputs": [
    {
     "data": {
      "text/html": [
       "<div>\n",
       "<style scoped>\n",
       "    .dataframe tbody tr th:only-of-type {\n",
       "        vertical-align: middle;\n",
       "    }\n",
       "\n",
       "    .dataframe tbody tr th {\n",
       "        vertical-align: top;\n",
       "    }\n",
       "\n",
       "    .dataframe thead th {\n",
       "        text-align: right;\n",
       "    }\n",
       "</style>\n",
       "<table border=\"1\" class=\"dataframe\">\n",
       "  <thead>\n",
       "    <tr style=\"text-align: right;\">\n",
       "      <th></th>\n",
       "      <th>Height</th>\n",
       "      <th>Weight</th>\n",
       "    </tr>\n",
       "  </thead>\n",
       "  <tbody>\n",
       "    <tr>\n",
       "      <th>count</th>\n",
       "      <td>10000.000000</td>\n",
       "      <td>10000.000000</td>\n",
       "    </tr>\n",
       "    <tr>\n",
       "      <th>mean</th>\n",
       "      <td>66.367560</td>\n",
       "      <td>161.440357</td>\n",
       "    </tr>\n",
       "    <tr>\n",
       "      <th>std</th>\n",
       "      <td>3.847528</td>\n",
       "      <td>32.108439</td>\n",
       "    </tr>\n",
       "    <tr>\n",
       "      <th>min</th>\n",
       "      <td>54.263133</td>\n",
       "      <td>64.700127</td>\n",
       "    </tr>\n",
       "    <tr>\n",
       "      <th>25%</th>\n",
       "      <td>63.505620</td>\n",
       "      <td>135.818051</td>\n",
       "    </tr>\n",
       "    <tr>\n",
       "      <th>50%</th>\n",
       "      <td>66.318070</td>\n",
       "      <td>161.212928</td>\n",
       "    </tr>\n",
       "    <tr>\n",
       "      <th>75%</th>\n",
       "      <td>69.174262</td>\n",
       "      <td>187.169525</td>\n",
       "    </tr>\n",
       "    <tr>\n",
       "      <th>max</th>\n",
       "      <td>78.998742</td>\n",
       "      <td>269.989699</td>\n",
       "    </tr>\n",
       "  </tbody>\n",
       "</table>\n",
       "</div>"
      ],
      "text/plain": [
       "             Height        Weight\n",
       "count  10000.000000  10000.000000\n",
       "mean      66.367560    161.440357\n",
       "std        3.847528     32.108439\n",
       "min       54.263133     64.700127\n",
       "25%       63.505620    135.818051\n",
       "50%       66.318070    161.212928\n",
       "75%       69.174262    187.169525\n",
       "max       78.998742    269.989699"
      ]
     },
     "execution_count": 89,
     "metadata": {},
     "output_type": "execute_result"
    }
   ],
   "source": [
    "df2.describe()"
   ]
  },
  {
   "cell_type": "code",
   "execution_count": 90,
   "id": "d37b1615",
   "metadata": {},
   "outputs": [
    {
     "data": {
      "text/plain": [
       "<AxesSubplot:xlabel='Height'>"
      ]
     },
     "execution_count": 90,
     "metadata": {},
     "output_type": "execute_result"
    },
    {
     "data": {
      "image/png": "[encoded data removed]",
      "text/plain": [
       "<Figure size 432x288 with 1 Axes>"
      ]
     },
     "metadata": {
      "needs_background": "light"
     },
     "output_type": "display_data"
    }
   ],
   "source": [
    "sns.distplot(df2['Height'])"
   ]
  },
  {
   "cell_type": "code",
   "execution_count": 91,
   "id": "9d1f4663",
   "metadata": {},
   "outputs": [
    {
     "data": {
      "text/plain": [
       "<AxesSubplot:xlabel='Height'>"
      ]
     },
     "execution_count": 91,
     "metadata": {},
     "output_type": "execute_result"
    },
    {
     "data": {
      "image/png": "[encoded data removed]",
      "text/plain": [
       "<Figure size 432x288 with 1 Axes>"
      ]
     },
     "metadata": {
      "needs_background": "light"
     },
     "output_type": "display_data"
    }
   ],
   "source": [
    "sns.boxplot(df2['Height'])"
   ]
  },
  {
   "cell_type": "code",
   "execution_count": 92,
   "id": "b365db57",
   "metadata": {},
   "outputs": [
    {
     "data": {
      "text/plain": [
       "74.7857900583366"
      ]
     },
     "execution_count": 92,
     "metadata": {},
     "output_type": "execute_result"
    }
   ],
   "source": [
    "#set quantile himslf  if upper limit is 99% and we have to look 1 % in lower quantile\n",
    "upper_limit = df2['Height'].quantile(0.99)\n",
    "upper_limit"
   ]
  },
  {
   "cell_type": "code",
   "execution_count": 93,
   "id": "dd038120",
   "metadata": {},
   "outputs": [
    {
     "data": {
      "text/plain": [
       "58.13441158671655"
      ]
     },
     "execution_count": 93,
     "metadata": {},
     "output_type": "execute_result"
    }
   ],
   "source": [
    "lower_limit = df2['Height'].quantile(0.01)\n",
    "lower_limit"
   ]
  },
  {
   "cell_type": "code",
   "execution_count": 94,
   "id": "11554ca2",
   "metadata": {},
   "outputs": [],
   "source": [
    "new_df = df2[(df2['Height'] <= 74.78) & (df2['Height'] >= 58.13)]"
   ]
  },
  {
   "cell_type": "code",
   "execution_count": 95,
   "id": "48d979d7",
   "metadata": {},
   "outputs": [
    {
     "data": {
      "text/plain": [
       "<AxesSubplot:xlabel='Height'>"
      ]
     },
     "execution_count": 95,
     "metadata": {},
     "output_type": "execute_result"
    },
    {
     "data": {
      "image/png": "[encoded data removed]",
      "text/plain": [
       "<Figure size 432x288 with 1 Axes>"
      ]
     },
     "metadata": {
      "needs_background": "light"
     },
     "output_type": "display_data"
    }
   ],
   "source": [
    "sns.distplot(new_df['Height'])"
   ]
  },
  {
   "cell_type": "code",
   "execution_count": 96,
   "id": "94354cea",
   "metadata": {},
   "outputs": [
    {
     "data": {
      "text/plain": [
       "<AxesSubplot:xlabel='Height'>"
      ]
     },
     "execution_count": 96,
     "metadata": {},
     "output_type": "execute_result"
    },
    {
     "data": {
      "image/png": "[encoded data removed]",
      "text/plain": [
       "<Figure size 432x288 with 1 Axes>"
      ]
     },
     "metadata": {
      "needs_background": "light"
     },
     "output_type": "display_data"
    }
   ],
   "source": [
    "sns.boxplot(new_df['Height'])"
   ]
  },
  {
   "cell_type": "code",
   "execution_count": 98,
   "id": "777604b0",
   "metadata": {},
   "outputs": [],
   "source": [
    " #Capping --> Winsorization\n",
    "df2['Height'] = np.where(df2['Height'] >= upper_limit,\n",
    "        upper_limit,\n",
    "        np.where(df2['Height'] <= lower_limit,\n",
    "        lower_limit,\n",
    "        df2['Height']))"
   ]
  },
  {
   "cell_type": "code",
   "execution_count": 99,
   "id": "5501cc93",
   "metadata": {},
   "outputs": [
    {
     "data": {
      "text/html": [
       "<div>\n",
       "<style scoped>\n",
       "    .dataframe tbody tr th:only-of-type {\n",
       "        vertical-align: middle;\n",
       "    }\n",
       "\n",
       "    .dataframe tbody tr th {\n",
       "        vertical-align: top;\n",
       "    }\n",
       "\n",
       "    .dataframe thead th {\n",
       "        text-align: right;\n",
       "    }\n",
       "</style>\n",
       "<table border=\"1\" class=\"dataframe\">\n",
       "  <thead>\n",
       "    <tr style=\"text-align: right;\">\n",
       "      <th></th>\n",
       "      <th>Gender</th>\n",
       "      <th>Height</th>\n",
       "      <th>Weight</th>\n",
       "    </tr>\n",
       "  </thead>\n",
       "  <tbody>\n",
       "    <tr>\n",
       "      <th>0</th>\n",
       "      <td>Male</td>\n",
       "      <td>73.847017</td>\n",
       "      <td>241.893563</td>\n",
       "    </tr>\n",
       "    <tr>\n",
       "      <th>1</th>\n",
       "      <td>Male</td>\n",
       "      <td>68.781904</td>\n",
       "      <td>162.310473</td>\n",
       "    </tr>\n",
       "    <tr>\n",
       "      <th>2</th>\n",
       "      <td>Male</td>\n",
       "      <td>74.110105</td>\n",
       "      <td>212.740856</td>\n",
       "    </tr>\n",
       "    <tr>\n",
       "      <th>3</th>\n",
       "      <td>Male</td>\n",
       "      <td>71.730978</td>\n",
       "      <td>220.042470</td>\n",
       "    </tr>\n",
       "    <tr>\n",
       "      <th>4</th>\n",
       "      <td>Male</td>\n",
       "      <td>69.881796</td>\n",
       "      <td>206.349801</td>\n",
       "    </tr>\n",
       "    <tr>\n",
       "      <th>...</th>\n",
       "      <td>...</td>\n",
       "      <td>...</td>\n",
       "      <td>...</td>\n",
       "    </tr>\n",
       "    <tr>\n",
       "      <th>9995</th>\n",
       "      <td>Female</td>\n",
       "      <td>66.172652</td>\n",
       "      <td>136.777454</td>\n",
       "    </tr>\n",
       "    <tr>\n",
       "      <th>9996</th>\n",
       "      <td>Female</td>\n",
       "      <td>67.067155</td>\n",
       "      <td>170.867906</td>\n",
       "    </tr>\n",
       "    <tr>\n",
       "      <th>9997</th>\n",
       "      <td>Female</td>\n",
       "      <td>63.867992</td>\n",
       "      <td>128.475319</td>\n",
       "    </tr>\n",
       "    <tr>\n",
       "      <th>9998</th>\n",
       "      <td>Female</td>\n",
       "      <td>69.034243</td>\n",
       "      <td>163.852461</td>\n",
       "    </tr>\n",
       "    <tr>\n",
       "      <th>9999</th>\n",
       "      <td>Female</td>\n",
       "      <td>61.944246</td>\n",
       "      <td>113.649103</td>\n",
       "    </tr>\n",
       "  </tbody>\n",
       "</table>\n",
       "<p>10000 rows × 3 columns</p>\n",
       "</div>"
      ],
      "text/plain": [
       "      Gender     Height      Weight\n",
       "0       Male  73.847017  241.893563\n",
       "1       Male  68.781904  162.310473\n",
       "2       Male  74.110105  212.740856\n",
       "3       Male  71.730978  220.042470\n",
       "4       Male  69.881796  206.349801\n",
       "...      ...        ...         ...\n",
       "9995  Female  66.172652  136.777454\n",
       "9996  Female  67.067155  170.867906\n",
       "9997  Female  63.867992  128.475319\n",
       "9998  Female  69.034243  163.852461\n",
       "9999  Female  61.944246  113.649103\n",
       "\n",
       "[10000 rows x 3 columns]"
      ]
     },
     "execution_count": 99,
     "metadata": {},
     "output_type": "execute_result"
    }
   ],
   "source": [
    "df2"
   ]
  },
  {
   "cell_type": "code",
   "execution_count": 100,
   "id": "5870af5a",
   "metadata": {},
   "outputs": [
    {
     "data": {
      "text/plain": [
       "count    10000.000000\n",
       "mean        66.366281\n",
       "std          3.795717\n",
       "min         58.134412\n",
       "25%         63.505620\n",
       "50%         66.318070\n",
       "75%         69.174262\n",
       "max         74.785790\n",
       "Name: Height, dtype: float64"
      ]
     },
     "execution_count": 100,
     "metadata": {},
     "output_type": "execute_result"
    }
   ],
   "source": [
    "df2['Height'].describe()"
   ]
  },
  {
   "cell_type": "code",
   "execution_count": 101,
   "id": "a62a238a",
   "metadata": {},
   "outputs": [
    {
     "data": {
      "text/plain": [
       "<AxesSubplot:xlabel='Height'>"
      ]
     },
     "execution_count": 101,
     "metadata": {},
     "output_type": "execute_result"
    },
    {
     "data": {
      "image/png": "[encoded data removed]",
      "text/plain": [
       "<Figure size 432x288 with 1 Axes>"
      ]
     },
     "metadata": {
      "needs_background": "light"
     },
     "output_type": "display_data"
    }
   ],
   "source": [
    "sns.distplot(df2['Height'])"
   ]
  },
  {
   "cell_type": "code",
   "execution_count": 102,
   "id": "cebdac4a",
   "metadata": {},
   "outputs": [
    {
     "data": {
      "text/plain": [
       "<AxesSubplot:xlabel='Height'>"
      ]
     },
     "execution_count": 102,
     "metadata": {},
     "output_type": "execute_result"
    },
    {
     "data": {
      "image/png": "[encoded data removed]",
      "text/plain": [
       "<Figure size 432x288 with 1 Axes>"
      ]
     },
     "metadata": {
      "needs_background": "light"
     },
     "output_type": "display_data"
    }
   ],
   "source": [
    "sns.boxplot(df2['Height'])"
   ]
  },
  {
   "cell_type": "markdown",
   "id": "8929f26c",
   "metadata": {},
   "source": [
    "## 3.Log Transform"
   ]
  },
  {
   "cell_type": "markdown",
   "id": "fa0f34b2",
   "metadata": {},
   "source": [
    "Logarithm transformation or log transform is one of the commonly used mathematical techniques in machine learning. Log transform helps in handling the skewed data, and it makes the distribution more approximate to normal after transformation. It also reduces the effects of outliers on the data, as because of the normalization of magnitude differences, a model becomes much robust."
   ]
  },
  {
   "cell_type": "code",
   "execution_count": 103,
   "id": "9ae77e09",
   "metadata": {},
   "outputs": [
    {
     "name": "stdout",
     "output_type": "stream",
     "text": [
      "          A         B\n",
      "0  2.302585  0.000000\n",
      "1  4.605170  0.693147\n",
      "2  6.907755  1.098612\n",
      "3  9.210340  1.386294\n"
     ]
    }
   ],
   "source": [
    "import pandas as pd\n",
    "import numpy as np\n",
    "\n",
    "# Create a sample dataframe\n",
    "data = {'A': [10, 100, 1000, 10000],\n",
    "        'B': [1, 2, 3, 4]}\n",
    "df = pd.DataFrame(data)\n",
    "\n",
    "# Log transformation using numpy's log function\n",
    "df_log = np.log(df)\n",
    "\n",
    "# Output the transformed dataframe\n",
    "print(df_log)\n"
   ]
  },
  {
   "cell_type": "code",
   "execution_count": 110,
   "id": "b38de874",
   "metadata": {},
   "outputs": [],
   "source": [
    "import seaborn as sns"
   ]
  },
  {
   "cell_type": "code",
   "execution_count": 112,
   "id": "6dcf490e",
   "metadata": {},
   "outputs": [
    {
     "data": {
      "text/plain": [
       "<AxesSubplot:xlabel='A'>"
      ]
     },
     "execution_count": 112,
     "metadata": {},
     "output_type": "execute_result"
    },
    {
     "data": {
      "image/png": "[encoded data removed]",
      "text/plain": [
       "<Figure size 432x288 with 1 Axes>"
      ]
     },
     "metadata": {
      "needs_background": "light"
     },
     "output_type": "display_data"
    }
   ],
   "source": [
    "sns.distplot(df['A'])"
   ]
  },
  {
   "cell_type": "code",
   "execution_count": 108,
   "id": "3b1a233f",
   "metadata": {},
   "outputs": [
    {
     "data": {
      "text/plain": [
       "<AxesSubplot:xlabel='A'>"
      ]
     },
     "execution_count": 108,
     "metadata": {},
     "output_type": "execute_result"
    },
    {
     "data": {
      "image/png": "[encoded data removed]",
      "text/plain": [
       "<Figure size 432x288 with 1 Axes>"
      ]
     },
     "metadata": {
      "needs_background": "light"
     },
     "output_type": "display_data"
    }
   ],
   "source": [
    "sns.distplot(df_log['A'])"
   ]
  },
  {
   "cell_type": "markdown",
   "id": "1eaf0b59",
   "metadata": {},
   "source": [
    "## 4.Binning"
   ]
  },
  {
   "cell_type": "markdown",
   "id": "9dce9994",
   "metadata": {},
   "source": [
    " Binning is a data transformation technique that involves dividing a continuous variable into discrete bins or intervals. It is useful when you want to simplify the data or create categorical variables based on numerical ranges. Binning can help handle outliers, reduce noise, and capture non-linear relationships in the data.\n",
    "\n"
   ]
  },
  {
   "cell_type": "code",
   "execution_count": 114,
   "id": "d0c61a0c",
   "metadata": {},
   "outputs": [
    {
     "name": "stdout",
     "output_type": "stream",
     "text": [
      "     A  Binned\n",
      "0   10     Low\n",
      "1   25     Low\n",
      "2   30  Medium\n",
      "3   42  Medium\n",
      "4   50  Medium\n",
      "5   60    High\n",
      "6   70    High\n",
      "7   80    High\n",
      "8   90    High\n",
      "9  100     NaN\n"
     ]
    }
   ],
   "source": [
    "import pandas as pd\n",
    "\n",
    "# Create a sample dataframe\n",
    "data = {'A': [10, 25, 30, 42, 50, 60, 70, 80, 90, 100]}\n",
    "df = pd.DataFrame(data)\n",
    "\n",
    "# Define bin edges and labels\n",
    "bin_edges = [0, 30, 60, 100]\n",
    "bin_labels = ['Low', 'Medium', 'High']\n",
    "\n",
    "# Apply binning to a new column\n",
    "df['Binned'] = pd.cut(df['A'], bins=bin_edges, labels=bin_labels, right=False)\n",
    "\n",
    "# Output the transformed dataframe\n",
    "print(df)\n"
   ]
  },
  {
   "cell_type": "markdown",
   "id": "a6fdc1cb",
   "metadata": {},
   "source": [
    "## 5.Feature Split"
   ]
  },
  {
   "cell_type": "markdown",
   "id": "3e42bbee",
   "metadata": {},
   "source": [
    "#### Feature split is the process of splitting features intimately into two or more parts and performing to make new features. \n",
    "This technique helps the algorithms to better understand and learn the patterns in the dataset.\n",
    "\n"
   ]
  },
  {
   "cell_type": "code",
   "execution_count": 126,
   "id": "20c9bcf5",
   "metadata": {},
   "outputs": [
    {
     "name": "stdout",
     "output_type": "stream",
     "text": [
      "Original DataFrame:\n",
      "   Student Roll No Name and Surname   Subjects and Marks\n",
      "0                1       John Smith  Math:90, Science:85\n",
      "1                2     Emma Johnson  Math:75, Science:80\n",
      "2                3    Michael Brown  Math:95, Science:90\n",
      "3                4       Sophia Lee  Math:80, Science:85\n",
      "4                5    Daniel Wilson  Math:85, Science:90\n",
      "\n",
      "Updated DataFrame:\n",
      "   Student Roll No   Subjects and Marks     Name  Surname\n",
      "0                1  Math:90, Science:85     John    Smith\n",
      "1                2  Math:75, Science:80     Emma  Johnson\n",
      "2                3  Math:95, Science:90  Michael    Brown\n",
      "3                4  Math:80, Science:85   Sophia      Lee\n",
      "4                5  Math:85, Science:90   Daniel   Wilson\n",
      "\n",
      "Split Features:\n",
      "   Student Roll No     Name  Surname\n",
      "0                1     John    Smith\n",
      "1                2     Emma  Johnson\n",
      "2                3  Michael    Brown\n",
      "3                4   Sophia      Lee\n",
      "4                5   Daniel   Wilson\n",
      "\n",
      "Target:\n",
      "0    Math:90, Science:85\n",
      "1    Math:75, Science:80\n",
      "2    Math:95, Science:90\n",
      "3    Math:80, Science:85\n",
      "4    Math:85, Science:90\n",
      "Name: Subjects and Marks, dtype: object\n"
     ]
    }
   ],
   "source": [
    "import pandas as pd\n",
    "\n",
    "# Creating a sample dataframe\n",
    "data = {\n",
    "    'Student Roll No': [1, 2, 3, 4, 5],\n",
    "    'Name and Surname': ['John Smith', 'Emma Johnson', 'Michael Brown', 'Sophia Lee', 'Daniel Wilson'],\n",
    "    'Subjects and Marks': ['Math:90, Science:85', 'Math:75, Science:80', 'Math:95, Science:90', 'Math:80, Science:85', 'Math:85, Science:90']\n",
    "}\n",
    "\n",
    "df = pd.DataFrame(data)\n",
    "\n",
    "# Displaying the dataframe\n",
    "print(\"Original DataFrame:\")\n",
    "print(df)\n",
    "\n",
    "# Splitting 'Name and Surname' column into 'Name' and 'Surname' columns\n",
    "df[['Name', 'Surname']] = df['Name and Surname'].str.split(' ', 1, expand=True)\n",
    "\n",
    "# Dropping the original 'Name and Surname' column\n",
    "df = df.drop('Name and Surname', axis=1)\n",
    "\n",
    "# Separating the features and the target variable\n",
    "features = df.drop('Subjects and Marks', axis=1)  # Drop the 'Subjects and Marks' column from features\n",
    "target = df['Subjects and Marks']  # Select the 'Subjects and Marks' column as the target variable\n",
    "\n",
    "# Printing the updated dataframe and the split features\n",
    "print(\"\\nUpdated DataFrame:\")\n",
    "print(df)\n",
    "\n",
    "print(\"\\nSplit Features:\")\n",
    "print(features)\n",
    "\n",
    "print(\"\\nTarget:\")\n",
    "print(target)\n"
   ]
  },
  {
   "cell_type": "code",
   "execution_count": 127,
   "id": "86cd3831",
   "metadata": {},
   "outputs": [
    {
     "name": "stdout",
     "output_type": "stream",
     "text": [
      "Original DataFrame:\n",
      "   Student Roll No Name and Surname Subjects  Marks\n",
      "0                1       John Smith     Math     90\n",
      "1                2     Emma Johnson  Science     85\n",
      "2                3    Michael Brown  English     92\n",
      "3                4       Sophia Lee     Math     88\n",
      "4                5    Daniel Wilson  Science     93\n"
     ]
    }
   ],
   "source": [
    "import pandas as pd\n",
    "\n",
    "# Creating a sample dataframe\n",
    "data = {\n",
    "    'Student Roll No': [1, 2, 3, 4, 5],\n",
    "    'Name and Surname': ['John Smith', 'Emma Johnson', 'Michael Brown', 'Sophia Lee', 'Daniel Wilson'],\n",
    "    'Subjects': ['Math', 'Science', 'English', 'Math', 'Science'],\n",
    "    'Marks': [90, 85, 92, 88, 93]\n",
    "}\n",
    "\n",
    "df = pd.DataFrame(data)\n",
    "\n",
    "# Displaying the dataframe\n",
    "print(\"Original DataFrame:\")\n",
    "print(df)\n",
    "\n",
    "# Splitting 'Name and Surname' column into 'Name' and 'Surname' columns\n",
    "df[['Name', 'Surname']] = df['Name and Surname'].str.split(' ', 1, expand=True)\n",
    "\n",
    "# Dropping the original 'Name and Surname' column\n",
    "df = df.drop('Name and Surname', axis=1)\n",
    "\n",
    "# Separating the features and the target variable\n",
    "features = df.drop('Marks', axis=1)  # Drop the 'Marks' column from features\n",
    "target = df['Marks']  # Select the 'Marks' column as the target variable\n"
   ]
  },
  {
   "cell_type": "code",
   "execution_count": 128,
   "id": "56fd3f2e",
   "metadata": {},
   "outputs": [
    {
     "data": {
      "text/html": [
       "<div>\n",
       "<style scoped>\n",
       "    .dataframe tbody tr th:only-of-type {\n",
       "        vertical-align: middle;\n",
       "    }\n",
       "\n",
       "    .dataframe tbody tr th {\n",
       "        vertical-align: top;\n",
       "    }\n",
       "\n",
       "    .dataframe thead th {\n",
       "        text-align: right;\n",
       "    }\n",
       "</style>\n",
       "<table border=\"1\" class=\"dataframe\">\n",
       "  <thead>\n",
       "    <tr style=\"text-align: right;\">\n",
       "      <th></th>\n",
       "      <th>Student Roll No</th>\n",
       "      <th>Subjects</th>\n",
       "      <th>Marks</th>\n",
       "      <th>Name</th>\n",
       "      <th>Surname</th>\n",
       "    </tr>\n",
       "  </thead>\n",
       "  <tbody>\n",
       "    <tr>\n",
       "      <th>0</th>\n",
       "      <td>1</td>\n",
       "      <td>Math</td>\n",
       "      <td>90</td>\n",
       "      <td>John</td>\n",
       "      <td>Smith</td>\n",
       "    </tr>\n",
       "    <tr>\n",
       "      <th>1</th>\n",
       "      <td>2</td>\n",
       "      <td>Science</td>\n",
       "      <td>85</td>\n",
       "      <td>Emma</td>\n",
       "      <td>Johnson</td>\n",
       "    </tr>\n",
       "    <tr>\n",
       "      <th>2</th>\n",
       "      <td>3</td>\n",
       "      <td>English</td>\n",
       "      <td>92</td>\n",
       "      <td>Michael</td>\n",
       "      <td>Brown</td>\n",
       "    </tr>\n",
       "    <tr>\n",
       "      <th>3</th>\n",
       "      <td>4</td>\n",
       "      <td>Math</td>\n",
       "      <td>88</td>\n",
       "      <td>Sophia</td>\n",
       "      <td>Lee</td>\n",
       "    </tr>\n",
       "    <tr>\n",
       "      <th>4</th>\n",
       "      <td>5</td>\n",
       "      <td>Science</td>\n",
       "      <td>93</td>\n",
       "      <td>Daniel</td>\n",
       "      <td>Wilson</td>\n",
       "    </tr>\n",
       "  </tbody>\n",
       "</table>\n",
       "</div>"
      ],
      "text/plain": [
       "   Student Roll No Subjects  Marks     Name  Surname\n",
       "0                1     Math     90     John    Smith\n",
       "1                2  Science     85     Emma  Johnson\n",
       "2                3  English     92  Michael    Brown\n",
       "3                4     Math     88   Sophia      Lee\n",
       "4                5  Science     93   Daniel   Wilson"
      ]
     },
     "execution_count": 128,
     "metadata": {},
     "output_type": "execute_result"
    }
   ],
   "source": [
    "df"
   ]
  },
  {
   "cell_type": "code",
   "execution_count": 130,
   "id": "9f5917e3",
   "metadata": {},
   "outputs": [
    {
     "data": {
      "text/html": [
       "<div>\n",
       "<style scoped>\n",
       "    .dataframe tbody tr th:only-of-type {\n",
       "        vertical-align: middle;\n",
       "    }\n",
       "\n",
       "    .dataframe tbody tr th {\n",
       "        vertical-align: top;\n",
       "    }\n",
       "\n",
       "    .dataframe thead th {\n",
       "        text-align: right;\n",
       "    }\n",
       "</style>\n",
       "<table border=\"1\" class=\"dataframe\">\n",
       "  <thead>\n",
       "    <tr style=\"text-align: right;\">\n",
       "      <th></th>\n",
       "      <th>Student Roll No</th>\n",
       "      <th>Subjects</th>\n",
       "      <th>Name</th>\n",
       "      <th>Surname</th>\n",
       "    </tr>\n",
       "  </thead>\n",
       "  <tbody>\n",
       "    <tr>\n",
       "      <th>0</th>\n",
       "      <td>1</td>\n",
       "      <td>Math</td>\n",
       "      <td>John</td>\n",
       "      <td>Smith</td>\n",
       "    </tr>\n",
       "    <tr>\n",
       "      <th>1</th>\n",
       "      <td>2</td>\n",
       "      <td>Science</td>\n",
       "      <td>Emma</td>\n",
       "      <td>Johnson</td>\n",
       "    </tr>\n",
       "    <tr>\n",
       "      <th>2</th>\n",
       "      <td>3</td>\n",
       "      <td>English</td>\n",
       "      <td>Michael</td>\n",
       "      <td>Brown</td>\n",
       "    </tr>\n",
       "    <tr>\n",
       "      <th>3</th>\n",
       "      <td>4</td>\n",
       "      <td>Math</td>\n",
       "      <td>Sophia</td>\n",
       "      <td>Lee</td>\n",
       "    </tr>\n",
       "    <tr>\n",
       "      <th>4</th>\n",
       "      <td>5</td>\n",
       "      <td>Science</td>\n",
       "      <td>Daniel</td>\n",
       "      <td>Wilson</td>\n",
       "    </tr>\n",
       "  </tbody>\n",
       "</table>\n",
       "</div>"
      ],
      "text/plain": [
       "   Student Roll No Subjects     Name  Surname\n",
       "0                1     Math     John    Smith\n",
       "1                2  Science     Emma  Johnson\n",
       "2                3  English  Michael    Brown\n",
       "3                4     Math   Sophia      Lee\n",
       "4                5  Science   Daniel   Wilson"
      ]
     },
     "execution_count": 130,
     "metadata": {},
     "output_type": "execute_result"
    }
   ],
   "source": [
    "features"
   ]
  },
  {
   "cell_type": "code",
   "execution_count": 131,
   "id": "3d95cbe5",
   "metadata": {},
   "outputs": [
    {
     "data": {
      "text/plain": [
       "0    90\n",
       "1    85\n",
       "2    92\n",
       "3    88\n",
       "4    93\n",
       "Name: Marks, dtype: int64"
      ]
     },
     "execution_count": 131,
     "metadata": {},
     "output_type": "execute_result"
    }
   ],
   "source": [
    "target"
   ]
  },
  {
   "cell_type": "code",
   "execution_count": 132,
   "id": "b21a0199",
   "metadata": {},
   "outputs": [
    {
     "name": "stdout",
     "output_type": "stream",
     "text": [
      "Original DataFrame:\n",
      "      TV  Radio  Newspaper  Sales\n",
      "0  230.1   37.8       69.2   22.1\n",
      "1   44.5   39.3       45.1   10.4\n",
      "2   17.2   45.9       69.3   12.0\n",
      "3  151.5   41.3       58.5   16.5\n",
      "4  180.8   10.8       58.4   17.9\n",
      "\n",
      "Features shape: (5, 3)\n",
      "Target shape: (5,)\n"
     ]
    }
   ],
   "source": [
    "import pandas as pd\n",
    "\n",
    "# Create a sample dataframe\n",
    "data = {\n",
    "    'TV': [230.1, 44.5, 17.2, 151.5, 180.8],\n",
    "    'Radio': [37.8, 39.3, 45.9, 41.3, 10.8],\n",
    "    'Newspaper': [69.2, 45.1, 69.3, 58.5, 58.4],\n",
    "    'Sales': [22.1, 10.4, 12.0, 16.5, 17.9]\n",
    "}\n",
    "\n",
    "df = pd.DataFrame(data)\n",
    "\n",
    "# Display the original dataframe\n",
    "print(\"Original DataFrame:\")\n",
    "print(df)\n",
    "\n",
    "# Splitting the features and target variable\n",
    "features = df[['TV', 'Radio', 'Newspaper']]  # Select the 'TV', 'Radio', 'Newspaper' columns as features\n",
    "target = df['Sales']  # Select the 'Sales' column as the target variable\n",
    "\n",
    "# Printing the shapes of features and target to verify the split\n",
    "print(\"\\nFeatures shape:\", features.shape)\n",
    "print(\"Target shape:\", target.shape)\n"
   ]
  },
  {
   "cell_type": "markdown",
   "id": "00d99e6b",
   "metadata": {},
   "source": [
    "## 6.One hot encoding\n"
   ]
  },
  {
   "cell_type": "markdown",
   "id": "d3b21d6d",
   "metadata": {},
   "source": [
    " One hot encoding is a technique that we use to represent categorical variables as numerical values in a machine learning model."
   ]
  },
  {
   "cell_type": "markdown",
   "id": "6bd5db15",
   "metadata": {},
   "source": [
    " It allows the use of categorical variables in models that require numerical input.\n",
    "It can improve model performance by providing more information to the model about the categorical variable.\n",
    "It can help to avoid the problem of ordinality, which can occur when a categorical variable has a natural ordering (e.g. “small”, “medium”, “large”).\n"
   ]
  },
  {
   "cell_type": "code",
   "execution_count": 133,
   "id": "4bad132c",
   "metadata": {},
   "outputs": [
    {
     "name": "stdout",
     "output_type": "stream",
     "text": [
      "Original DataFrame:\n",
      "  Category\n",
      "0        A\n",
      "1        B\n",
      "2        A\n",
      "3        C\n",
      "4        B\n",
      "\n",
      "Encoded DataFrame:\n",
      "  Category  A  B  C\n",
      "0        A  1  0  0\n",
      "1        B  0  1  0\n",
      "2        A  1  0  0\n",
      "3        C  0  0  1\n",
      "4        B  0  1  0\n"
     ]
    }
   ],
   "source": [
    "import pandas as pd\n",
    "\n",
    "# Create a sample dataframe with categorical feature\n",
    "data = {\n",
    "    'Category': ['A', 'B', 'A', 'C', 'B']\n",
    "}\n",
    "\n",
    "df = pd.DataFrame(data)\n",
    "\n",
    "# Perform one-hot encoding\n",
    "encoded_df = pd.get_dummies(df['Category'])\n",
    "\n",
    "# Concatenate the encoded dataframe with the original dataframe\n",
    "df_encoded = pd.concat([df, encoded_df], axis=1)\n",
    "\n",
    "# Display the original and encoded dataframes\n",
    "print(\"Original DataFrame:\")\n",
    "print(df)\n",
    "\n",
    "print(\"\\nEncoded DataFrame:\")\n",
    "print(df_encoded)\n"
   ]
  },
  {
   "cell_type": "markdown",
   "id": "d3d5d888",
   "metadata": {},
   "source": [
    "### Advantage:"
   ]
  },
  {
   "cell_type": "markdown",
   "id": "5209fa0a",
   "metadata": {},
   "source": [
    "1.It allows the use of categorical variables in models that require numerical input.\n",
    "\n",
    "2.It can improve model performance by providing more information to the model about the categorical variable.\n",
    "\n",
    "3.It can help to avoid the problem of ordinality, which can occur when a categorical variable has a natural ordering (e.g. “small”, “medium”, “large”).\n"
   ]
  },
  {
   "cell_type": "markdown",
   "id": "57f76890",
   "metadata": {},
   "source": [
    "### The disadvantages of using one hot encoding include:"
   ]
  },
  {
   "cell_type": "markdown",
   "id": "e26ed791",
   "metadata": {},
   "source": [
    "1.It can lead to increased dimensionality, as a separate column is created for each category in the variable. This can make the model more complex and slow to train.\n",
    " \n",
    "2.It can lead to sparse data, as most observations will have a value of 0 in most of the one-hot encoded columns.\n",
    " \n",
    "3.It can lead to overfitting, especially if there are many categories in the variable and the sample size is relatively small.\n",
    " \n",
    "4.One-hot-encoding is a powerful technique to treat categorical data, but it can lead to increased dimensionality, sparsity, and overfitting. It is important to use it cautiously and consider other methods such as ordinal encoding or binary encoding."
   ]
  },
  {
   "cell_type": "code",
   "execution_count": null,
   "id": "318d2b6f",
   "metadata": {},
   "outputs": [],
   "source": []
  }
 ],
 "metadata": {
  "kernelspec": {
   "display_name": "Python 3 (ipykernel)",
   "language": "python",
   "name": "python3"
  },
  "language_info": {
   "codemirror_mode": {
    "name": "ipython",
    "version": 3
   },
   "file_extension": ".py",
   "mimetype": "text/x-python",
   "name": "python",
   "nbconvert_exporter": "python",
   "pygments_lexer": "ipython3",
   "version": "3.9.12"
  }
 },
 "nbformat": 4,
 "nbformat_minor": 5
}
